{
  "nbformat": 4,
  "nbformat_minor": 0,
  "metadata": {
    "colab": {
      "private_outputs": true,
      "provenance": []
    },
    "kernelspec": {
      "name": "python3",
      "display_name": "Python 3"
    },
    "language_info": {
      "name": "python"
    }
  },
  "cells": [
    {
      "cell_type": "code",
      "execution_count": null,
      "metadata": {
        "id": "04vEAt6Z9OY1"
      },
      "outputs": [],
      "source": [
        "import numpy as np\n",
        "import pandas as pd\n",
        "import matplotlib.pyplot as plt\n",
        "import seaborn as sb\n",
        "from sklearn.model_selection import train_test_split\n",
        "from sklearn.preprocessing import LabelEncoder, StandardScaler\n",
        "from sklearn import metrics\n",
        "from sklearn.svm import SVC\n",
        "from xgboost import XGBRegressor\n",
        "from sklearn.linear_model import LogisticRegression, Lasso, Ridge\n",
        "from sklearn.ensemble import RandomForestRegressor\n",
        "from sklearn.metrics import accuracy_score, classification_report, confusion_matrix\n",
        "\n",
        "import warnings\n",
        "warnings.filterwarnings('ignore')"
      ]
    },
    {
      "cell_type": "code",
      "source": [
        "df = pd.read_csv('/content/Student_Details.csv')\n",
        "df.head()"
      ],
      "metadata": {
        "id": "Wf-rJJB698b_"
      },
      "execution_count": null,
      "outputs": []
    },
    {
      "cell_type": "code",
      "source": [
        "#handling missing values\n",
        "df.isnull().sum()  # Check for missing values\n",
        "df.fillna(method='ffill', inplace=True)  # Example: Forward fill missing values\n"
      ],
      "metadata": {
        "id": "w4_61alr-D2x"
      },
      "execution_count": null,
      "outputs": []
    },
    {
      "cell_type": "code",
      "source": [
        "#converting categoricl values to numerical values\n",
        "df['Extra_Curricular_Activities'] = df['Extra_Curricular_Activities'].map({'Yes': 1, 'No': 0})\n"
      ],
      "metadata": {
        "id": "ToLq_-0B-PCa"
      },
      "execution_count": null,
      "outputs": []
    },
    {
      "cell_type": "code",
      "source": [
        "#feature scaling\n",
        "from sklearn.preprocessing import StandardScaler\n",
        "\n",
        "scaler = StandardScaler()\n",
        "scaled_features = scaler.fit_transform(df.drop(columns=[\"Student_ID\"]))\n",
        "df_scaled = pd.DataFrame(scaled_features, columns=df.columns[1:])\n"
      ],
      "metadata": {
        "id": "5-Ye9cub-h3o"
      },
      "execution_count": null,
      "outputs": []
    },
    {
      "cell_type": "code",
      "source": [
        "#split the dataset\n",
        "X = df_scaled.drop(columns=[\"Extra_Curricular_Activities\"])  # Replace with your target column name\n",
        "y = df[\"Extra_Curricular_Activities\"]\n",
        "\n",
        "X_train, X_test, y_train, y_test = train_test_split(X, y, test_size=0.2, random_state=42)\n"
      ],
      "metadata": {
        "id": "qf6sJg9c-pBt"
      },
      "execution_count": null,
      "outputs": []
    },
    {
      "cell_type": "code",
      "source": [
        "from sklearn.linear_model import LogisticRegression\n",
        "!pip install mord\n",
        "import mord\n",
        "\n",
        "# Create a Logistic Regression model\n",
        "model = LogisticRegression()\n",
        "\n",
        "# Train the model\n",
        "model = mord.OrdinalRidge()\n",
        "model.fit(X_train, y_train)"
      ],
      "metadata": {
        "id": "Pc89Wq12--Ch"
      },
      "execution_count": null,
      "outputs": []
    },
    {
      "cell_type": "code",
      "source": [
        "#performance\n",
        "y_pred = model.predict(X_test)\n",
        "accuracy = accuracy_score(y_test, y_pred)\n",
        "print(f\"Accuracy: {accuracy}\")\n"
      ],
      "metadata": {
        "id": "viYYavyuCRog"
      },
      "execution_count": null,
      "outputs": []
    },
    {
      "cell_type": "code",
      "source": [
        "#finetuning\n",
        "from sklearn.model_selection import GridSearchCV\n",
        "\n",
        "params = {'C': [0.01, 0.1, 1, 10]}\n",
        "grid_search = GridSearchCV(LogisticRegression(), param_grid=params, cv=5)\n",
        "grid_search.fit(X_train, y_train)\n",
        "\n",
        "best_model = grid_search.best_estimator_\n",
        "print(f\"Best Parameters: {grid_search.best_params_}\")\n"
      ],
      "metadata": {
        "id": "u0a8v7MfCbBD"
      },
      "execution_count": null,
      "outputs": []
    },
    {
      "cell_type": "code",
      "source": [
        "import matplotlib.pyplot as plt\n",
        "import seaborn as sns\n",
        "plt.figure(figsize=(10, 6))\n",
        "sns.boxplot(data=df_scaled, x='CGPA')\n",
        "plt.title(\"Box Plot of CGPA\")\n",
        "plt.xlabel(\"CGPA\")\n",
        "plt.show()\n",
        "plt.figure(figsize=(10, 6))\n",
        "sns.histplot(df['CGPA'], kde=True, bins=15, color='blue')\n",
        "plt.title(\"Histogram of CGPA\")\n",
        "plt.xlabel(\"CGPA\")\n",
        "plt.ylabel(\"Frequency\")\n",
        "plt.show()\n",
        "plt.figure(figsize=(10, 6))\n",
        "sns.violinplot(data=df_scaled, x='Extra_Curricular_Activities', y='CGPA', palette='coolwarm')\n",
        "plt.title(\"Violin Plot of CGPA by Extra-Curricular Activities\")\n",
        "plt.xlabel(\"Extra-Curricular Activities\")\n",
        "plt.ylabel(\"CGPA\")\n",
        "plt.show()\n",
        "sns.pairplot(df_scaled, diag_kind=\"kde\", corner=True)\n",
        "plt.suptitle(\"Pair Plot of Student Data\", y=1.02)\n",
        "plt.show()\n",
        "plt.figure(figsize=(10, 6))\n",
        "plt.scatter(range(len(y_test)), y_test, label='Actual', color='blue', alpha=0.6)\n",
        "plt.scatter(range(len(y_test)), y_pred, label='Predicted', color='red', alpha=0.6)\n",
        "plt.title(\"Actual vs Predicted Performance\")\n",
        "plt.xlabel(\"Students\")\n",
        "plt.ylabel(\"Performance\")\n",
        "plt.legend()\n",
        "plt.show()\n",
        "# plt.figure(figsize=(12, 8))\n",
        "# sns.heatmap(df.corr(), annot=True, cmap='coolwarm', fmt='.2f', linewidths=0.5)\n",
        "# plt.title(\"Correlation Heatmap\")\n",
        "# plt.show()\n",
        "plt.figure(figsize=(10, 6))\n",
        "sns.barplot(data=df, x='Extra_Curricular_Activities', y='CGPA', palette='viridis')\n",
        "plt.title(\"Average CGPA by Extra-Curricular Activities\")\n",
        "plt.xlabel(\"Extra-Curricular Activities\")\n",
        "plt.ylabel(\"Average CGPA\")\n",
        "plt.show()\n",
        "plt.figure(figsize=(10, 6))\n",
        "sns.histplot(y_test, color='blue', label='Actual', kde=True, stat='density')\n",
        "sns.histplot(y_pred, color='red', label='Predicted', kde=True, stat='density')\n",
        "plt.title(\"Density Plot of Actual vs Predicted Performance\")\n",
        "plt.xlabel(\"Performance\")\n",
        "plt.ylabel(\"Density\")\n",
        "plt.legend()\n",
        "plt.show()\n",
        "\n",
        "\n"
      ],
      "metadata": {
        "id": "4htYHYGKDMKI"
      },
      "execution_count": null,
      "outputs": []
    },
    {
      "cell_type": "code",
      "source": [
        "sns.heatmap(confusion_matrix(y_test, y_pred), annot=True, fmt='d')\n",
        "plt.title(\"Confusion Matrix\")\n",
        "plt.show()\n"
      ],
      "metadata": {
        "id": "hot1bcZzD3cj"
      },
      "execution_count": null,
      "outputs": []
    },
    {
      "cell_type": "code",
      "source": [
        "import joblib\n",
        "\n",
        "joblib.dump(model, \"student_analysis_model.pkl\")\n"
      ],
      "metadata": {
        "id": "OUipTx-dD9fA"
      },
      "execution_count": null,
      "outputs": []
    },
    {
      "cell_type": "code",
      "source": [
        "from google.colab import files\n",
        "files.download(\"student_analysis_model.pkl\")\n"
      ],
      "metadata": {
        "id": "P5hN9tvkEHBM"
      },
      "execution_count": null,
      "outputs": []
    },
    {
      "cell_type": "code",
      "source": [
        "import joblib\n",
        "joblib.dump(your_model, \"student_model.pkl\")\n",
        "\n"
      ],
      "metadata": {
        "id": "7nbxuQJXyLrr"
      },
      "execution_count": null,
      "outputs": []
    }
  ]
}